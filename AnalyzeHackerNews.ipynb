{
 "cells": [
  {
   "cell_type": "code",
   "execution_count": 1,
   "metadata": {},
   "outputs": [],
   "source": [
    "import pandas as pd"
   ]
  },
  {
   "cell_type": "code",
   "execution_count": 3,
   "metadata": {},
   "outputs": [],
   "source": [
    "hacker_news_df = pd.read_csv('hacker_news_sample.csv')"
   ]
  },
  {
   "cell_type": "code",
   "execution_count": 5,
   "metadata": {},
   "outputs": [
    {
     "name": "stdout",
     "output_type": "stream",
     "text": [
      "<class 'pandas.core.frame.DataFrame'>\n",
      "RangeIndex: 3659697 entries, 0 to 3659696\n",
      "Data columns (total 14 columns):\n",
      " #   Column       Dtype  \n",
      "---  ------       -----  \n",
      " 0   title        object \n",
      " 1   url          object \n",
      " 2   text         object \n",
      " 3   dead         object \n",
      " 4   by           object \n",
      " 5   score        float64\n",
      " 6   time         float64\n",
      " 7   type         object \n",
      " 8   id           int64  \n",
      " 9   parent       float64\n",
      " 10  descendants  float64\n",
      " 11  ranking      float64\n",
      " 12  deleted      object \n",
      " 13  timestamp    object \n",
      "dtypes: float64(5), int64(1), object(8)\n",
      "memory usage: 390.9+ MB\n"
     ]
    }
   ],
   "source": [
    "hacker_news_df.info()"
   ]
  },
  {
   "cell_type": "markdown",
   "metadata": {},
   "source": [
    "|Field|Description|\n",
    "|:-----|:-----------|\n",
    "|title|The title of the story, poll or job. HTML.|\n",
    "|url|The URL of the story.|\n",
    "|text|The comment, story or poll text. HTML.|\n",
    "|dead|true if the item is dead.|\n",
    "|by|The username of the item's author.|\n",
    "|score|The story's score, or the votes for a pollopt.|\n",
    "|time|Creation date of the item, in Unix Time.|\n",
    "|type|The type of item. One of \"job\", \"story\", \"comment\", \"poll\", or \"pollopt\".|\n",
    "|id|The item's unique id|\n",
    "|parent|The comment's parent: either another comment or the relevant story.|\n",
    "|descendants|In the case of stories or polls, the total comment count.|\n",
    "|deleted|true if the item is deleted|\n",
    "|poll|The pollopt's associated poll.|\n",
    "|kids|The ids of the item's comments, in ranked display order.|\n",
    "|parts|A list of related pollopts, in display order.|"
   ]
  },
  {
   "cell_type": "code",
   "execution_count": null,
   "metadata": {},
   "outputs": [],
   "source": []
  },
  {
   "cell_type": "code",
   "execution_count": null,
   "metadata": {},
   "outputs": [],
   "source": []
  },
  {
   "cell_type": "code",
   "execution_count": 10,
   "metadata": {},
   "outputs": [
    {
     "data": {
      "text/plain": [
       "(3659697, 14)"
      ]
     },
     "execution_count": 10,
     "metadata": {},
     "output_type": "execute_result"
    }
   ],
   "source": [
    "hacker_news_df.shape"
   ]
  },
  {
   "cell_type": "code",
   "execution_count": 9,
   "metadata": {},
   "outputs": [
    {
     "data": {
      "text/plain": [
       "count                        620205\n",
       "unique                       605429\n",
       "top       Y Combinator: Bookmarklet\n",
       "freq                            315\n",
       "Name: title, dtype: object"
      ]
     },
     "execution_count": 9,
     "metadata": {},
     "output_type": "execute_result"
    }
   ],
   "source": [
    "hacker_news_df[\"title\"].describe()"
   ]
  },
  {
   "cell_type": "code",
   "execution_count": 11,
   "metadata": {},
   "outputs": [
    {
     "data": {
      "text/plain": [
       "count                                      582562\n",
       "unique                                     565830\n",
       "top       http://ycombinator.com/bookmarklet.html\n",
       "freq                                          165\n",
       "Name: url, dtype: object"
      ]
     },
     "execution_count": 11,
     "metadata": {},
     "output_type": "execute_result"
    }
   ],
   "source": [
    "hacker_news_df[\"url\"].describe()"
   ]
  },
  {
   "cell_type": "code",
   "execution_count": 12,
   "metadata": {},
   "outputs": [
    {
     "data": {
      "text/plain": [
       "count     2984974\n",
       "unique    2965555\n",
       "top       Thanks!\n",
       "freq          660\n",
       "Name: text, dtype: object"
      ]
     },
     "execution_count": 12,
     "metadata": {},
     "output_type": "execute_result"
    }
   ],
   "source": [
    "hacker_news_df[\"text\"].describe()"
   ]
  },
  {
   "cell_type": "code",
   "execution_count": 13,
   "metadata": {},
   "outputs": [
    {
     "data": {
      "text/plain": [
       "count    623019.000000\n",
       "mean         11.047955\n",
       "std          45.935248\n",
       "min           0.000000\n",
       "25%           1.000000\n",
       "50%           2.000000\n",
       "75%           3.000000\n",
       "max        4107.000000\n",
       "Name: score, dtype: float64"
      ]
     },
     "execution_count": 13,
     "metadata": {},
     "output_type": "execute_result"
    }
   ],
   "source": [
    "hacker_news_df[\"score\"].describe()"
   ]
  },
  {
   "cell_type": "code",
   "execution_count": null,
   "metadata": {},
   "outputs": [],
   "source": []
  }
 ],
 "metadata": {
  "kernelspec": {
   "display_name": "Python 3",
   "language": "python",
   "name": "python3"
  },
  "language_info": {
   "codemirror_mode": {
    "name": "ipython",
    "version": 3
   },
   "file_extension": ".py",
   "mimetype": "text/x-python",
   "name": "python",
   "nbconvert_exporter": "python",
   "pygments_lexer": "ipython3",
   "version": "3.8.2"
  }
 },
 "nbformat": 4,
 "nbformat_minor": 4
}
