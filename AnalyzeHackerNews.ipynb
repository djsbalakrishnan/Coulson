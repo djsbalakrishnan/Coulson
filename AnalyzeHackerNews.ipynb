{
 "cells": [
  {
   "cell_type": "code",
   "execution_count": 22,
   "metadata": {},
   "outputs": [],
   "source": [
    "import pandas as pd\n",
    "import requests\n",
    "from nltk import word_tokenize\n",
    "from nltk.corpus import stopwords\n",
    "import matplotlib.pyplot as plt"
   ]
  },
  {
   "cell_type": "code",
   "execution_count": 2,
   "metadata": {},
   "outputs": [],
   "source": [
    "HACKER_NEWS_TOP_STORIES_API = \"https://hacker-news.firebaseio.com/v0/topstories.json\"\n",
    "HACKER_NEWS_BEST_STORIES_API = \"https://hacker-news.firebaseio.com/v0/beststories.json\"\n",
    "HACKER_NEWS_NEW_STORIES_API = \"https://hacker-news.firebaseio.com/v0/newstories.json\"\n",
    "HACKER_NEWS_ITEM_STORIES_API = \"https://hacker-news.firebaseio.com/v0/item/\""
   ]
  },
  {
   "cell_type": "code",
   "execution_count": 3,
   "metadata": {},
   "outputs": [],
   "source": [
    "def hackernews_request(endpoint):\n",
    "    response = requests.get(endpoint)\n",
    "    if response.status_code == 200:\n",
    "        return {\"status_code\": 200, \"json_response\": response.json()}\n",
    "    else:\n",
    "        return {\"status_code\": response.status_code, \"json_response\": None}"
   ]
  },
  {
   "cell_type": "code",
   "execution_count": 4,
   "metadata": {},
   "outputs": [],
   "source": [
    "# Get Best stories from HackerNews\n",
    "# Basic code to get all best stories, I am not worried about getting all values at this point of time\n",
    "\n",
    "best_stories_dict = []\n",
    "best_stories_response = hackernews_request(HACKER_NEWS_BEST_STORIES_API)\n",
    "if best_stories_response[\"status_code\"] == 200:\n",
    "    for item_id in best_stories_response[\"json_response\"]:\n",
    "        item_url = HACKER_NEWS_ITEM_STORIES_API + str(item_id) + \".json\"\n",
    "        item_response = hackernews_request(item_url)\n",
    "        if item_response[\"status_code\"] == 200:\n",
    "            best_stories_dict.append(item_response[\"json_response\"])\n",
    "        else:\n",
    "            print(\"Item -\", item_id, \"returned -\", item_response[\"status_code\"])\n",
    "else:\n",
    "    print(\"Hacker News Best Stories API returned -\", best_stories_response[\"status_code\"])"
   ]
  },
  {
   "cell_type": "code",
   "execution_count": 7,
   "metadata": {},
   "outputs": [],
   "source": [
    "best_stories_df = pd.DataFrame.from_dict(best_stories_dict, orient=\"columns\")"
   ]
  },
  {
   "cell_type": "code",
   "execution_count": 18,
   "metadata": {},
   "outputs": [],
   "source": [
    "title_list = best_stories_df[\"title\"].to_list()\n",
    "stop_words_list = stopwords.words('english')\n",
    "basic_word_list = []\n",
    "\n",
    "for title in title_list:\n",
    "    words = word_tokenize(title)\n",
    "    for word in words:\n",
    "        word = word.lower()\n",
    "        if not word in stop_words_list:\n",
    "            basic_word_list.append(word)"
   ]
  },
  {
   "cell_type": "code",
   "execution_count": 20,
   "metadata": {},
   "outputs": [
    {
     "data": {
      "text/plain": [
       "1290"
      ]
     },
     "execution_count": 20,
     "metadata": {},
     "output_type": "execute_result"
    }
   ],
   "source": [
    "len(basic_word_list)"
   ]
  },
  {
   "cell_type": "code",
   "execution_count": null,
   "metadata": {},
   "outputs": [],
   "source": []
  }
 ],
 "metadata": {
  "kernelspec": {
   "display_name": "Python 3",
   "language": "python",
   "name": "python3"
  },
  "language_info": {
   "codemirror_mode": {
    "name": "ipython",
    "version": 3
   },
   "file_extension": ".py",
   "mimetype": "text/x-python",
   "name": "python",
   "nbconvert_exporter": "python",
   "pygments_lexer": "ipython3",
   "version": "3.8.2"
  }
 },
 "nbformat": 4,
 "nbformat_minor": 4
}
